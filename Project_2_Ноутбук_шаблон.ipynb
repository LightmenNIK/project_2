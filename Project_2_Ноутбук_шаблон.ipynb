{
  "cells": [
    {
      "cell_type": "markdown",
      "id": "42289889-bd57-434e-9637-d3e354756316",
      "metadata": {
        "id": "42289889-bd57-434e-9637-d3e354756316"
      },
      "source": [
        "<center> <img src = https://raw.githubusercontent.com/AndreyRysistov/DatasetsForPandas/main/hh%20label.jpg alt=\"drawing\" style=\"width:400px;\">"
      ]
    },
    {
      "cell_type": "markdown",
      "id": "829cb75b-f14e-4ba8-9195-7ba929a7d656",
      "metadata": {
        "id": "829cb75b-f14e-4ba8-9195-7ba929a7d656",
        "tags": []
      },
      "source": [
        "# <center> Проект: Анализ вакансий из HeadHunter\n",
        "   "
      ]
    },
    {
      "cell_type": "code",
      "execution_count": 3,
      "id": "dccfde33-2452-43fb-a8a5-5c6ebc02a71d",
      "metadata": {
        "id": "dccfde33-2452-43fb-a8a5-5c6ebc02a71d"
      },
      "outputs": [],
      "source": [
        "import pandas as pd\n",
        "import psycopg2\n",
        "import plotly.express as px"
      ]
    },
    {
      "cell_type": "code",
      "execution_count": 445,
      "id": "G4X_q8KBf7SF",
      "metadata": {
        "id": "G4X_q8KBf7SF"
      },
      "outputs": [],
      "source": [
        "connection = psycopg2.connect(\n",
        "    dbname=DBNAME,\n",
        "    user=USER,\n",
        "    host=HOST,\n",
        "    password=PASSWORD,\n",
        "    port=PORT\n",
        ")"
      ]
    },
    {
      "cell_type": "code",
      "execution_count": 446,
      "id": "e4314ac8",
      "metadata": {},
      "outputs": [],
      "source": [
        "# Проигнорируем предупреждения, возникающее при работе с postgresql, для избежания засорения выводов\n",
        "from warnings import filterwarnings\n",
        "\n",
        "filterwarnings(\"ignore\", category=UserWarning, message='.*pandas only supports SQLAlchemy connectable.*')"
      ]
    },
    {
      "cell_type": "markdown",
      "id": "0dc6476b-7a00-44f1-ac93-6e3baed33a29",
      "metadata": {
        "id": "0dc6476b-7a00-44f1-ac93-6e3baed33a29"
      },
      "source": [
        "# Юнит 3. Предварительный анализ данных"
      ]
    },
    {
      "cell_type": "markdown",
      "id": "889782b6-8d1c-410e-8920-e57f27917c64",
      "metadata": {
        "id": "889782b6-8d1c-410e-8920-e57f27917c64"
      },
      "source": [
        "1. Напишите запрос, который посчитает количество вакансий в нашей базе (вакансии находятся в таблице vacancies). "
      ]
    },
    {
      "cell_type": "code",
      "execution_count": 447,
      "id": "bc39e68e-ed02-4ee2-9235-7258a2f867a8",
      "metadata": {
        "id": "bc39e68e-ed02-4ee2-9235-7258a2f867a8"
      },
      "outputs": [],
      "source": [
        "# текст запроса\n",
        "query_3_1 = f'''select count(id)\n",
        "                from vacancies\n",
        "'''"
      ]
    },
    {
      "cell_type": "code",
      "execution_count": 448,
      "id": "7mAwtsk4hEHY",
      "metadata": {
        "id": "7mAwtsk4hEHY"
      },
      "outputs": [
        {
          "data": {
            "text/plain": [
              "'Количество вакансий в БД - 49197'"
            ]
          },
          "metadata": {},
          "output_type": "display_data"
        }
      ],
      "source": [
        "# результат запроса\n",
        "query_3_1_result = pd.read_sql_query(query_3_1, connection)\n",
        "\n",
        "display(f\"Количество вакансий в БД - {query_3_1_result['count'][0]}\")"
      ]
    },
    {
      "cell_type": "markdown",
      "id": "b583485d-1f9e-494e-ada4-80ffff7c53d6",
      "metadata": {
        "id": "b583485d-1f9e-494e-ada4-80ffff7c53d6"
      },
      "source": [
        "2. Напишите запрос, который посчитает количество работодателей (таблица employers). "
      ]
    },
    {
      "cell_type": "code",
      "execution_count": 449,
      "id": "5408c52c-3407-4a63-b25b-1aafa2322d28",
      "metadata": {
        "id": "5408c52c-3407-4a63-b25b-1aafa2322d28"
      },
      "outputs": [],
      "source": [
        "# текст запроса\n",
        "query_3_2 = f'''select count(id)\n",
        "                from employers\n",
        "'''"
      ]
    },
    {
      "cell_type": "code",
      "execution_count": 450,
      "id": "jVL4eshKhdqc",
      "metadata": {
        "id": "jVL4eshKhdqc"
      },
      "outputs": [
        {
          "data": {
            "text/plain": [
              "'Количество работодателей в БД - 23501'"
            ]
          },
          "metadata": {},
          "output_type": "display_data"
        }
      ],
      "source": [
        "# результат запроса\n",
        "query_3_2_result = pd.read_sql_query(query_3_2, connection)\n",
        "\n",
        "display(f\"Количество работодателей в БД - {query_3_2_result['count'][0]}\")"
      ]
    },
    {
      "cell_type": "markdown",
      "id": "a2bfff1f-c975-4bf6-84be-2185d79dcb76",
      "metadata": {
        "id": "a2bfff1f-c975-4bf6-84be-2185d79dcb76"
      },
      "source": [
        "3. Посчитате с помощью запроса количество регионов (таблица areas)."
      ]
    },
    {
      "cell_type": "code",
      "execution_count": 451,
      "id": "1m8QJwBYhey6",
      "metadata": {
        "id": "1m8QJwBYhey6"
      },
      "outputs": [],
      "source": [
        "# текст запроса\n",
        "query_3_3 = f'''select count(id)\n",
        "                from areas\n",
        "'''"
      ]
    },
    {
      "cell_type": "code",
      "execution_count": 452,
      "id": "EZsn9tlfhe7f",
      "metadata": {
        "id": "EZsn9tlfhe7f"
      },
      "outputs": [
        {
          "data": {
            "text/plain": [
              "'Количество регионов в БД - 1362'"
            ]
          },
          "metadata": {},
          "output_type": "display_data"
        }
      ],
      "source": [
        "# результат запроса\n",
        "query_3_3_result = pd.read_sql_query(query_3_3, connection)\n",
        "\n",
        "display(f\"Количество регионов в БД - {query_3_3_result['count'][0]}\")"
      ]
    },
    {
      "cell_type": "markdown",
      "id": "41bb59f3-53cc-4a67-a5bc-bedf573955e4",
      "metadata": {
        "id": "41bb59f3-53cc-4a67-a5bc-bedf573955e4"
      },
      "source": [
        "4. Посчитате с помощью запроса количество сфер деятельности в базе (таблица industries)."
      ]
    },
    {
      "cell_type": "code",
      "execution_count": 453,
      "id": "d286cf4c-707b-4cd2-9190-7ab3587d04a1",
      "metadata": {
        "id": "d286cf4c-707b-4cd2-9190-7ab3587d04a1"
      },
      "outputs": [],
      "source": [
        "# текст запроса\n",
        "query_3_4 = f'''select count(id)\n",
        "                from INDUSTRIES\n",
        "'''"
      ]
    },
    {
      "cell_type": "code",
      "execution_count": 454,
      "id": "JYAaoZ4qhfzW",
      "metadata": {
        "id": "JYAaoZ4qhfzW"
      },
      "outputs": [
        {
          "data": {
            "text/plain": [
              "'Количество сфер деятельности в БД - 294'"
            ]
          },
          "metadata": {},
          "output_type": "display_data"
        }
      ],
      "source": [
        "# результат запроса\n",
        "query_3_4_result = pd.read_sql_query(query_3_4, connection)\n",
        "\n",
        "display(f\"Количество сфер деятельности в БД - {query_3_4_result['count'][0]}\")"
      ]
    },
    {
      "cell_type": "markdown",
      "id": "9a8a2181-6914-448b-85f1-38f5f18b8a93",
      "metadata": {
        "id": "9a8a2181-6914-448b-85f1-38f5f18b8a93"
      },
      "source": [
        "***"
      ]
    },
    {
      "cell_type": "code",
      "execution_count": 455,
      "id": "be4e9bd3-a4db-4a20-82fb-6b02fc2957e0",
      "metadata": {
        "id": "be4e9bd3-a4db-4a20-82fb-6b02fc2957e0"
      },
      "outputs": [
        {
          "name": "stdout",
          "output_type": "stream",
          "text": [
            "Предварительный анализ данных показал, что БД содержит сведения о 49197 вакансиях от\n",
            "23501 работадателя, которые расположены в 1362 регионах,\n",
            "и которые в совокупности предлагают 294 различных сфер деятельности\n"
          ]
        }
      ],
      "source": [
        "# выводы по предварительному анализу данных\n",
        "print(f\"Предварительный анализ данных показал, что БД содержит сведения о {query_3_1_result['count'][0]} вакансиях от\\n\"\n",
        "        f\"{query_3_2_result['count'][0]} работадателя, которые расположены в {query_3_3_result['count'][0]} регионах,\\n\"\n",
        "        f\"и которые в совокупности предлагают {query_3_4_result['count'][0]} различных сфер деятельности\")"
      ]
    },
    {
      "cell_type": "markdown",
      "id": "8d62a9f3-f64e-4fe7-bdac-c4dffa16155e",
      "metadata": {
        "id": "8d62a9f3-f64e-4fe7-bdac-c4dffa16155e"
      },
      "source": [
        "# Юнит 4. Детальный анализ вакансий"
      ]
    },
    {
      "cell_type": "markdown",
      "id": "93053d3d-b284-481a-9cf7-012d7014c0e0",
      "metadata": {
        "id": "93053d3d-b284-481a-9cf7-012d7014c0e0"
      },
      "source": [
        "1. Напишите запрос, который позволит узнать, сколько (cnt) вакансий в каждом регионе (area).\n",
        "Отсортируйте по количеству вакансий в порядке убывания."
      ]
    },
    {
      "cell_type": "code",
      "execution_count": 456,
      "id": "3f069da6-fdc9-4ae7-b514-fafe2675efd3",
      "metadata": {
        "id": "3f069da6-fdc9-4ae7-b514-fafe2675efd3"
      },
      "outputs": [],
      "source": [
        "# текст запроса\n",
        "query_4_1 = f'''select a.name, count(v.id)\n",
        "                from VACANCIES v left join AREAS a on v.area_id = a.id\n",
        "                group by a.name\n",
        "                order by 2 desc\n",
        "                limit 5\n",
        "'''"
      ]
    },
    {
      "cell_type": "code",
      "execution_count": 457,
      "id": "P7QL86hrjhRJ",
      "metadata": {
        "id": "P7QL86hrjhRJ"
      },
      "outputs": [
        {
          "data": {
            "text/html": [
              "<div>\n",
              "<style scoped>\n",
              "    .dataframe tbody tr th:only-of-type {\n",
              "        vertical-align: middle;\n",
              "    }\n",
              "\n",
              "    .dataframe tbody tr th {\n",
              "        vertical-align: top;\n",
              "    }\n",
              "\n",
              "    .dataframe thead th {\n",
              "        text-align: right;\n",
              "    }\n",
              "</style>\n",
              "<table border=\"1\" class=\"dataframe\">\n",
              "  <thead>\n",
              "    <tr style=\"text-align: right;\">\n",
              "      <th></th>\n",
              "      <th>name</th>\n",
              "      <th>count</th>\n",
              "    </tr>\n",
              "  </thead>\n",
              "  <tbody>\n",
              "    <tr>\n",
              "      <th>0</th>\n",
              "      <td>Москва</td>\n",
              "      <td>5333</td>\n",
              "    </tr>\n",
              "    <tr>\n",
              "      <th>1</th>\n",
              "      <td>Санкт-Петербург</td>\n",
              "      <td>2851</td>\n",
              "    </tr>\n",
              "    <tr>\n",
              "      <th>2</th>\n",
              "      <td>Минск</td>\n",
              "      <td>2112</td>\n",
              "    </tr>\n",
              "    <tr>\n",
              "      <th>3</th>\n",
              "      <td>Новосибирск</td>\n",
              "      <td>2006</td>\n",
              "    </tr>\n",
              "    <tr>\n",
              "      <th>4</th>\n",
              "      <td>Алматы</td>\n",
              "      <td>1892</td>\n",
              "    </tr>\n",
              "  </tbody>\n",
              "</table>\n",
              "</div>"
            ],
            "text/plain": [
              "              name  count\n",
              "0           Москва   5333\n",
              "1  Санкт-Петербург   2851\n",
              "2            Минск   2112\n",
              "3      Новосибирск   2006\n",
              "4           Алматы   1892"
            ]
          },
          "execution_count": 457,
          "metadata": {},
          "output_type": "execute_result"
        }
      ],
      "source": [
        "# результат запроса\n",
        "query_4_1_result = pd.read_sql_query(query_4_1, connection)\n",
        "query_4_1_result"
      ]
    },
    {
      "cell_type": "markdown",
      "id": "4266f0b6-1646-492a-88b4-2f6a46502135",
      "metadata": {
        "id": "4266f0b6-1646-492a-88b4-2f6a46502135"
      },
      "source": [
        "2. Напишите запрос, чтобы определить у какого количества вакансий заполнено хотя бы одно из двух полей с зарплатой."
      ]
    },
    {
      "cell_type": "code",
      "execution_count": 458,
      "id": "0c44b350-72eb-4d65-8b54-a1fc449ba9fd",
      "metadata": {
        "id": "0c44b350-72eb-4d65-8b54-a1fc449ba9fd"
      },
      "outputs": [],
      "source": [
        "# текст запроса\n",
        "query_4_2 = f'''select count(id)\n",
        "                from VACANCIES \n",
        "                where salary_from is not null or salary_to is not null\n",
        "'''"
      ]
    },
    {
      "cell_type": "code",
      "execution_count": 459,
      "id": "rhvwaMDkoWTi",
      "metadata": {
        "id": "rhvwaMDkoWTi"
      },
      "outputs": [
        {
          "data": {
            "text/plain": [
              "'У 24073 вакансий указан хотя бы один предел по ЗП'"
            ]
          },
          "metadata": {},
          "output_type": "display_data"
        }
      ],
      "source": [
        "# результат запроса\n",
        "query_4_2_result = pd.read_sql_query(query_4_2, connection)\n",
        "\n",
        "display(f\"У {query_4_2_result['count'][0]} вакансий указан хотя бы один предел по ЗП\")"
      ]
    },
    {
      "cell_type": "markdown",
      "id": "635c4d5d-f323-4c66-b428-50a088120aa0",
      "metadata": {
        "id": "635c4d5d-f323-4c66-b428-50a088120aa0"
      },
      "source": [
        "3. Найдите средние значения для нижней и верхней границы зарплатной вилки. Округлите значения до целого."
      ]
    },
    {
      "cell_type": "code",
      "execution_count": 460,
      "id": "603cdbe4-0ec3-4106-8eaf-c73fcdd29165",
      "metadata": {
        "id": "603cdbe4-0ec3-4106-8eaf-c73fcdd29165"
      },
      "outputs": [],
      "source": [
        "# текст запроса\n",
        "query_4_3 = f'''select avg(salary_from) salary_from_mean, \n",
        "                       avg(salary_to) salary_to_mean\n",
        "                from VACANCIES\n",
        "'''"
      ]
    },
    {
      "cell_type": "code",
      "execution_count": 462,
      "id": "pswpAb66ovZZ",
      "metadata": {
        "id": "pswpAb66ovZZ"
      },
      "outputs": [
        {
          "name": "stdout",
          "output_type": "stream",
          "text": [
            "Средняя нижняя граница зарплатной вилки 71065\n",
            "Средняя верхняя граница зарплатной вилки 110537\n"
          ]
        }
      ],
      "source": [
        "# результат запроса\n",
        "query_4_3_result = pd.read_sql_query(query_4_3, connection)\n",
        "print(f\"Средняя нижняя граница зарплатной вилки {query_4_3_result['salary_from_mean'][0]:.0f}\\n\"\n",
        "        f\"Средняя верхняя граница зарплатной вилки {query_4_3_result['salary_to_mean'][0]:.0f}\")"
      ]
    },
    {
      "cell_type": "markdown",
      "id": "f3fdaec9-5fd3-4260-9cf5-1d7406b628a5",
      "metadata": {
        "id": "f3fdaec9-5fd3-4260-9cf5-1d7406b628a5"
      },
      "source": [
        "4. Напишите запрос, который выведет количество вакансий для каждого сочетания типа рабочего графика (schedule) и типа трудоустройства (employment), используемого в вакансиях. Результат отсортируйте по убыванию количества.\n"
      ]
    },
    {
      "cell_type": "code",
      "execution_count": 463,
      "id": "1ea710ec-871b-431e-9462-c7d0fd87011b",
      "metadata": {
        "id": "1ea710ec-871b-431e-9462-c7d0fd87011b"
      },
      "outputs": [],
      "source": [
        "# текст запроса\n",
        "query_4_4 = f'''select schedule, employment, count(id)\n",
        "                from VACANCIES\n",
        "                group by 1, 2\n",
        "                order by 3 desc\n",
        "'''"
      ]
    },
    {
      "cell_type": "code",
      "execution_count": 464,
      "id": "lGUVqavdo4JQ",
      "metadata": {
        "id": "lGUVqavdo4JQ"
      },
      "outputs": [
        {
          "data": {
            "text/html": [
              "<div>\n",
              "<style scoped>\n",
              "    .dataframe tbody tr th:only-of-type {\n",
              "        vertical-align: middle;\n",
              "    }\n",
              "\n",
              "    .dataframe tbody tr th {\n",
              "        vertical-align: top;\n",
              "    }\n",
              "\n",
              "    .dataframe thead th {\n",
              "        text-align: right;\n",
              "    }\n",
              "</style>\n",
              "<table border=\"1\" class=\"dataframe\">\n",
              "  <thead>\n",
              "    <tr style=\"text-align: right;\">\n",
              "      <th></th>\n",
              "      <th>schedule</th>\n",
              "      <th>employment</th>\n",
              "      <th>count</th>\n",
              "    </tr>\n",
              "  </thead>\n",
              "  <tbody>\n",
              "    <tr>\n",
              "      <th>0</th>\n",
              "      <td>Полный день</td>\n",
              "      <td>Полная занятость</td>\n",
              "      <td>35367</td>\n",
              "    </tr>\n",
              "    <tr>\n",
              "      <th>1</th>\n",
              "      <td>Удаленная работа</td>\n",
              "      <td>Полная занятость</td>\n",
              "      <td>7802</td>\n",
              "    </tr>\n",
              "    <tr>\n",
              "      <th>2</th>\n",
              "      <td>Гибкий график</td>\n",
              "      <td>Полная занятость</td>\n",
              "      <td>1593</td>\n",
              "    </tr>\n",
              "    <tr>\n",
              "      <th>3</th>\n",
              "      <td>Удаленная работа</td>\n",
              "      <td>Частичная занятость</td>\n",
              "      <td>1312</td>\n",
              "    </tr>\n",
              "    <tr>\n",
              "      <th>4</th>\n",
              "      <td>Сменный график</td>\n",
              "      <td>Полная занятость</td>\n",
              "      <td>940</td>\n",
              "    </tr>\n",
              "    <tr>\n",
              "      <th>5</th>\n",
              "      <td>Полный день</td>\n",
              "      <td>Стажировка</td>\n",
              "      <td>569</td>\n",
              "    </tr>\n",
              "    <tr>\n",
              "      <th>6</th>\n",
              "      <td>Вахтовый метод</td>\n",
              "      <td>Полная занятость</td>\n",
              "      <td>367</td>\n",
              "    </tr>\n",
              "    <tr>\n",
              "      <th>7</th>\n",
              "      <td>Полный день</td>\n",
              "      <td>Частичная занятость</td>\n",
              "      <td>347</td>\n",
              "    </tr>\n",
              "    <tr>\n",
              "      <th>8</th>\n",
              "      <td>Гибкий график</td>\n",
              "      <td>Частичная занятость</td>\n",
              "      <td>312</td>\n",
              "    </tr>\n",
              "    <tr>\n",
              "      <th>9</th>\n",
              "      <td>Полный день</td>\n",
              "      <td>Проектная работа</td>\n",
              "      <td>141</td>\n",
              "    </tr>\n",
              "    <tr>\n",
              "      <th>10</th>\n",
              "      <td>Удаленная работа</td>\n",
              "      <td>Проектная работа</td>\n",
              "      <td>133</td>\n",
              "    </tr>\n",
              "    <tr>\n",
              "      <th>11</th>\n",
              "      <td>Гибкий график</td>\n",
              "      <td>Стажировка</td>\n",
              "      <td>116</td>\n",
              "    </tr>\n",
              "    <tr>\n",
              "      <th>12</th>\n",
              "      <td>Сменный график</td>\n",
              "      <td>Частичная занятость</td>\n",
              "      <td>101</td>\n",
              "    </tr>\n",
              "    <tr>\n",
              "      <th>13</th>\n",
              "      <td>Удаленная работа</td>\n",
              "      <td>Стажировка</td>\n",
              "      <td>64</td>\n",
              "    </tr>\n",
              "    <tr>\n",
              "      <th>14</th>\n",
              "      <td>Гибкий график</td>\n",
              "      <td>Проектная работа</td>\n",
              "      <td>18</td>\n",
              "    </tr>\n",
              "    <tr>\n",
              "      <th>15</th>\n",
              "      <td>Сменный график</td>\n",
              "      <td>Стажировка</td>\n",
              "      <td>12</td>\n",
              "    </tr>\n",
              "    <tr>\n",
              "      <th>16</th>\n",
              "      <td>Вахтовый метод</td>\n",
              "      <td>Проектная работа</td>\n",
              "      <td>2</td>\n",
              "    </tr>\n",
              "    <tr>\n",
              "      <th>17</th>\n",
              "      <td>Сменный график</td>\n",
              "      <td>Проектная работа</td>\n",
              "      <td>1</td>\n",
              "    </tr>\n",
              "  </tbody>\n",
              "</table>\n",
              "</div>"
            ],
            "text/plain": [
              "            schedule           employment  count\n",
              "0        Полный день     Полная занятость  35367\n",
              "1   Удаленная работа     Полная занятость   7802\n",
              "2      Гибкий график     Полная занятость   1593\n",
              "3   Удаленная работа  Частичная занятость   1312\n",
              "4     Сменный график     Полная занятость    940\n",
              "5        Полный день           Стажировка    569\n",
              "6     Вахтовый метод     Полная занятость    367\n",
              "7        Полный день  Частичная занятость    347\n",
              "8      Гибкий график  Частичная занятость    312\n",
              "9        Полный день     Проектная работа    141\n",
              "10  Удаленная работа     Проектная работа    133\n",
              "11     Гибкий график           Стажировка    116\n",
              "12    Сменный график  Частичная занятость    101\n",
              "13  Удаленная работа           Стажировка     64\n",
              "14     Гибкий график     Проектная работа     18\n",
              "15    Сменный график           Стажировка     12\n",
              "16    Вахтовый метод     Проектная работа      2\n",
              "17    Сменный график     Проектная работа      1"
            ]
          },
          "execution_count": 464,
          "metadata": {},
          "output_type": "execute_result"
        }
      ],
      "source": [
        "# результат запроса\n",
        "query_4_4_result = pd.read_sql_query(query_4_4, connection)\n",
        "query_4_4_result"
      ]
    },
    {
      "cell_type": "markdown",
      "id": "0136ffee-0ead-4a6b-b608-61d1c753a438",
      "metadata": {
        "id": "0136ffee-0ead-4a6b-b608-61d1c753a438"
      },
      "source": [
        "5. Напишите запрос, выводящий значения поля Требуемый опыт работы (experience) в порядке возрастания количества вакансий, в которых указан данный вариант опыта. "
      ]
    },
    {
      "cell_type": "code",
      "execution_count": 465,
      "id": "5b3a8e79-f7ab-4008-b767-12aea3a205ea",
      "metadata": {
        "id": "5b3a8e79-f7ab-4008-b767-12aea3a205ea"
      },
      "outputs": [],
      "source": [
        "# текст запроса\n",
        "query_4_5 = f'''select experience, count(id)\n",
        "                from VACANCIES\n",
        "                group by 1\n",
        "                order by 2\n",
        "'''"
      ]
    },
    {
      "cell_type": "code",
      "execution_count": 466,
      "id": "3Is64Y-hpDpq",
      "metadata": {
        "id": "3Is64Y-hpDpq"
      },
      "outputs": [
        {
          "data": {
            "text/html": [
              "<div>\n",
              "<style scoped>\n",
              "    .dataframe tbody tr th:only-of-type {\n",
              "        vertical-align: middle;\n",
              "    }\n",
              "\n",
              "    .dataframe tbody tr th {\n",
              "        vertical-align: top;\n",
              "    }\n",
              "\n",
              "    .dataframe thead th {\n",
              "        text-align: right;\n",
              "    }\n",
              "</style>\n",
              "<table border=\"1\" class=\"dataframe\">\n",
              "  <thead>\n",
              "    <tr style=\"text-align: right;\">\n",
              "      <th></th>\n",
              "      <th>experience</th>\n",
              "      <th>count</th>\n",
              "    </tr>\n",
              "  </thead>\n",
              "  <tbody>\n",
              "    <tr>\n",
              "      <th>0</th>\n",
              "      <td>Более 6 лет</td>\n",
              "      <td>1337</td>\n",
              "    </tr>\n",
              "    <tr>\n",
              "      <th>1</th>\n",
              "      <td>Нет опыта</td>\n",
              "      <td>7197</td>\n",
              "    </tr>\n",
              "    <tr>\n",
              "      <th>2</th>\n",
              "      <td>От 3 до 6 лет</td>\n",
              "      <td>14511</td>\n",
              "    </tr>\n",
              "    <tr>\n",
              "      <th>3</th>\n",
              "      <td>От 1 года до 3 лет</td>\n",
              "      <td>26152</td>\n",
              "    </tr>\n",
              "  </tbody>\n",
              "</table>\n",
              "</div>"
            ],
            "text/plain": [
              "           experience  count\n",
              "0         Более 6 лет   1337\n",
              "1           Нет опыта   7197\n",
              "2       От 3 до 6 лет  14511\n",
              "3  От 1 года до 3 лет  26152"
            ]
          },
          "execution_count": 466,
          "metadata": {},
          "output_type": "execute_result"
        }
      ],
      "source": [
        "# результат запроса\n",
        "query_4_5_result = pd.read_sql_query(query_4_5, connection)\n",
        "query_4_5_result"
      ]
    },
    {
      "cell_type": "markdown",
      "id": "oq2b7n1QpIka",
      "metadata": {
        "id": "oq2b7n1QpIka"
      },
      "source": [
        "***"
      ]
    },
    {
      "cell_type": "code",
      "execution_count": 359,
      "id": "e91f87ed-e25c-4f96-9f92-b642e8c0b4fa",
      "metadata": {
        "id": "e91f87ed-e25c-4f96-9f92-b642e8c0b4fa"
      },
      "outputs": [],
      "source": [
        "# выводы по детальному анализу вакансий\n",
        "# Первые пять мест при группировке по регионам занимают Москва, Санкт-Петербург, Минск, Новосибирск и Алматы\n",
        "# Примерно в 50 % случаев не указаны пределы по ЗП\n",
        "# 72 % всех вакансий имеют формат занятости - полная занятость, а график - полный день \n",
        "# Средняя нижняя граница зарплатной вилки - 71065, средняя верхняя граница зарплатной вилки - 110537\n",
        "# 50 % всех вакансий требуют опыт работы от 1 года до 3 лет"
      ]
    },
    {
      "cell_type": "markdown",
      "id": "7ea20ab6-04a7-40a0-adec-443a0e5a42c3",
      "metadata": {
        "id": "7ea20ab6-04a7-40a0-adec-443a0e5a42c3"
      },
      "source": [
        "# Юнит 5. Анализ работодателей"
      ]
    },
    {
      "cell_type": "markdown",
      "id": "968aed80-74ef-4ffb-b5bf-c65b84e9caea",
      "metadata": {
        "id": "968aed80-74ef-4ffb-b5bf-c65b84e9caea"
      },
      "source": [
        "1. Напишите запрос, который позволит узнать, какие работодатели находятся на первом и пятом месте по количеству вакансий."
      ]
    },
    {
      "cell_type": "code",
      "execution_count": 467,
      "id": "f2d62796-d400-4ec1-a675-88112739a50e",
      "metadata": {
        "id": "f2d62796-d400-4ec1-a675-88112739a50e"
      },
      "outputs": [],
      "source": [
        "# текст запроса\n",
        "query_5_1 = f'''select e.name, count(v.id)\n",
        "                from VACANCIES v left join EMPLOYERS e on v.employer_id = e.id\n",
        "                group by 1\n",
        "                order by 2 desc\n",
        "                limit 5\n",
        "'''"
      ]
    },
    {
      "cell_type": "code",
      "execution_count": 468,
      "id": "64tOMkAxqkQk",
      "metadata": {
        "id": "64tOMkAxqkQk"
      },
      "outputs": [
        {
          "data": {
            "text/html": [
              "<div>\n",
              "<style scoped>\n",
              "    .dataframe tbody tr th:only-of-type {\n",
              "        vertical-align: middle;\n",
              "    }\n",
              "\n",
              "    .dataframe tbody tr th {\n",
              "        vertical-align: top;\n",
              "    }\n",
              "\n",
              "    .dataframe thead th {\n",
              "        text-align: right;\n",
              "    }\n",
              "</style>\n",
              "<table border=\"1\" class=\"dataframe\">\n",
              "  <thead>\n",
              "    <tr style=\"text-align: right;\">\n",
              "      <th></th>\n",
              "      <th>name</th>\n",
              "      <th>count</th>\n",
              "    </tr>\n",
              "  </thead>\n",
              "  <tbody>\n",
              "    <tr>\n",
              "      <th>0</th>\n",
              "      <td>Яндекс</td>\n",
              "      <td>1933</td>\n",
              "    </tr>\n",
              "    <tr>\n",
              "      <th>1</th>\n",
              "      <td>Ростелеком</td>\n",
              "      <td>491</td>\n",
              "    </tr>\n",
              "    <tr>\n",
              "      <th>2</th>\n",
              "      <td>Тинькофф</td>\n",
              "      <td>444</td>\n",
              "    </tr>\n",
              "    <tr>\n",
              "      <th>3</th>\n",
              "      <td>СБЕР</td>\n",
              "      <td>428</td>\n",
              "    </tr>\n",
              "    <tr>\n",
              "      <th>4</th>\n",
              "      <td>Газпром нефть</td>\n",
              "      <td>331</td>\n",
              "    </tr>\n",
              "  </tbody>\n",
              "</table>\n",
              "</div>"
            ],
            "text/plain": [
              "            name  count\n",
              "0         Яндекс   1933\n",
              "1     Ростелеком    491\n",
              "2       Тинькофф    444\n",
              "3           СБЕР    428\n",
              "4  Газпром нефть    331"
            ]
          },
          "execution_count": 468,
          "metadata": {},
          "output_type": "execute_result"
        }
      ],
      "source": [
        "# результат запроса\n",
        "query_5_1_result = pd.read_sql_query(query_5_1, connection)\n",
        "query_5_1_result"
      ]
    },
    {
      "cell_type": "markdown",
      "id": "68377cfc-b378-43dc-ab7d-1195abf2c515",
      "metadata": {
        "id": "68377cfc-b378-43dc-ab7d-1195abf2c515"
      },
      "source": [
        "2. Напишите запрос, который для каждого региона выведет количество работодателей и вакансий в нём.\n",
        "Среди регионов, в которых нет вакансий, найдите тот, в котором наибольшее количество работодателей.\n"
      ]
    },
    {
      "cell_type": "code",
      "execution_count": 469,
      "id": "dd7df27a-e3e8-412e-a21a-5d389b71e891",
      "metadata": {
        "id": "dd7df27a-e3e8-412e-a21a-5d389b71e891"
      },
      "outputs": [],
      "source": [
        "# текст запроса\n",
        "query_5_2 = f'''select a.name,\n",
        "                       count(e.id) employ_count,\n",
        "                       count(v.id) vac_count\n",
        "            from areas a\n",
        "                left join employers e on a.id = e.area\n",
        "                left join vacancies v on v.area_id = a.id\n",
        "            group by 1\n",
        "            order by 3 asc, 2 desc\n",
        "'''"
      ]
    },
    {
      "cell_type": "code",
      "execution_count": 470,
      "id": "x1ikWbydrbf6",
      "metadata": {
        "id": "x1ikWbydrbf6"
      },
      "outputs": [
        {
          "data": {
            "text/html": [
              "<div>\n",
              "<style scoped>\n",
              "    .dataframe tbody tr th:only-of-type {\n",
              "        vertical-align: middle;\n",
              "    }\n",
              "\n",
              "    .dataframe tbody tr th {\n",
              "        vertical-align: top;\n",
              "    }\n",
              "\n",
              "    .dataframe thead th {\n",
              "        text-align: right;\n",
              "    }\n",
              "</style>\n",
              "<table border=\"1\" class=\"dataframe\">\n",
              "  <thead>\n",
              "    <tr style=\"text-align: right;\">\n",
              "      <th></th>\n",
              "      <th>name</th>\n",
              "      <th>employ_count</th>\n",
              "      <th>vac_count</th>\n",
              "    </tr>\n",
              "  </thead>\n",
              "  <tbody>\n",
              "    <tr>\n",
              "      <th>0</th>\n",
              "      <td>Россия</td>\n",
              "      <td>410</td>\n",
              "      <td>0</td>\n",
              "    </tr>\n",
              "    <tr>\n",
              "      <th>1</th>\n",
              "      <td>Казахстан</td>\n",
              "      <td>207</td>\n",
              "      <td>0</td>\n",
              "    </tr>\n",
              "    <tr>\n",
              "      <th>2</th>\n",
              "      <td>Московская область</td>\n",
              "      <td>75</td>\n",
              "      <td>0</td>\n",
              "    </tr>\n",
              "    <tr>\n",
              "      <th>3</th>\n",
              "      <td>Краснодарский край</td>\n",
              "      <td>19</td>\n",
              "      <td>0</td>\n",
              "    </tr>\n",
              "    <tr>\n",
              "      <th>4</th>\n",
              "      <td>Ростовская область</td>\n",
              "      <td>18</td>\n",
              "      <td>0</td>\n",
              "    </tr>\n",
              "    <tr>\n",
              "      <th>...</th>\n",
              "      <td>...</td>\n",
              "      <td>...</td>\n",
              "      <td>...</td>\n",
              "    </tr>\n",
              "    <tr>\n",
              "      <th>1357</th>\n",
              "      <td>Новосибирск</td>\n",
              "      <td>1149438</td>\n",
              "      <td>1149438</td>\n",
              "    </tr>\n",
              "    <tr>\n",
              "      <th>1358</th>\n",
              "      <td>Алматы</td>\n",
              "      <td>1364132</td>\n",
              "      <td>1364132</td>\n",
              "    </tr>\n",
              "    <tr>\n",
              "      <th>1359</th>\n",
              "      <td>Минск</td>\n",
              "      <td>2354880</td>\n",
              "      <td>2354880</td>\n",
              "    </tr>\n",
              "    <tr>\n",
              "      <th>1360</th>\n",
              "      <td>Санкт-Петербург</td>\n",
              "      <td>6320667</td>\n",
              "      <td>6320667</td>\n",
              "    </tr>\n",
              "    <tr>\n",
              "      <th>1361</th>\n",
              "      <td>Москва</td>\n",
              "      <td>31272712</td>\n",
              "      <td>31272712</td>\n",
              "    </tr>\n",
              "  </tbody>\n",
              "</table>\n",
              "<p>1362 rows × 3 columns</p>\n",
              "</div>"
            ],
            "text/plain": [
              "                    name  employ_count  vac_count\n",
              "0                 Россия           410          0\n",
              "1              Казахстан           207          0\n",
              "2     Московская область            75          0\n",
              "3     Краснодарский край            19          0\n",
              "4     Ростовская область            18          0\n",
              "...                  ...           ...        ...\n",
              "1357         Новосибирск       1149438    1149438\n",
              "1358              Алматы       1364132    1364132\n",
              "1359               Минск       2354880    2354880\n",
              "1360     Санкт-Петербург       6320667    6320667\n",
              "1361              Москва      31272712   31272712\n",
              "\n",
              "[1362 rows x 3 columns]"
            ]
          },
          "execution_count": 470,
          "metadata": {},
          "output_type": "execute_result"
        }
      ],
      "source": [
        "# результат запроса\n",
        "query_5_2_result = pd.read_sql_query(query_5_2, connection)\n",
        "query_5_2_result"
      ]
    },
    {
      "cell_type": "markdown",
      "id": "f2fe0acb-ab1a-4e15-9326-2560e22d73c1",
      "metadata": {
        "id": "f2fe0acb-ab1a-4e15-9326-2560e22d73c1"
      },
      "source": [
        "3. Для каждого работодателя посчитайте количество регионов, в которых он публикует свои вакансии. Отсортируйте результат по убыванию количества.\n"
      ]
    },
    {
      "cell_type": "code",
      "execution_count": 471,
      "id": "6271f8ad-bd2e-4196-ae4a-5b39c4c1010e",
      "metadata": {
        "id": "6271f8ad-bd2e-4196-ae4a-5b39c4c1010e"
      },
      "outputs": [],
      "source": [
        "# текст запроса\n",
        "query_5_3 = f'''select e.name,\n",
        "                       count(distinct v.area_id)\n",
        "                from EMPLOYERS e \n",
        "                left join vacancies v on e.id = v.employer_id\n",
        "                group by e.id\n",
        "                order by 2 desc\n",
        "'''"
      ]
    },
    {
      "cell_type": "code",
      "execution_count": 472,
      "id": "1EIvX3HasH4F",
      "metadata": {
        "id": "1EIvX3HasH4F"
      },
      "outputs": [
        {
          "data": {
            "text/html": [
              "<div>\n",
              "<style scoped>\n",
              "    .dataframe tbody tr th:only-of-type {\n",
              "        vertical-align: middle;\n",
              "    }\n",
              "\n",
              "    .dataframe tbody tr th {\n",
              "        vertical-align: top;\n",
              "    }\n",
              "\n",
              "    .dataframe thead th {\n",
              "        text-align: right;\n",
              "    }\n",
              "</style>\n",
              "<table border=\"1\" class=\"dataframe\">\n",
              "  <thead>\n",
              "    <tr style=\"text-align: right;\">\n",
              "      <th></th>\n",
              "      <th>name</th>\n",
              "      <th>count</th>\n",
              "    </tr>\n",
              "  </thead>\n",
              "  <tbody>\n",
              "    <tr>\n",
              "      <th>0</th>\n",
              "      <td>Яндекс</td>\n",
              "      <td>181</td>\n",
              "    </tr>\n",
              "    <tr>\n",
              "      <th>1</th>\n",
              "      <td>Ростелеком</td>\n",
              "      <td>152</td>\n",
              "    </tr>\n",
              "    <tr>\n",
              "      <th>2</th>\n",
              "      <td>Спецремонт</td>\n",
              "      <td>116</td>\n",
              "    </tr>\n",
              "    <tr>\n",
              "      <th>3</th>\n",
              "      <td>Поляков Денис Иванович</td>\n",
              "      <td>88</td>\n",
              "    </tr>\n",
              "    <tr>\n",
              "      <th>4</th>\n",
              "      <td>ООО ЕФИН</td>\n",
              "      <td>71</td>\n",
              "    </tr>\n",
              "    <tr>\n",
              "      <th>...</th>\n",
              "      <td>...</td>\n",
              "      <td>...</td>\n",
              "    </tr>\n",
              "    <tr>\n",
              "      <th>23496</th>\n",
              "      <td>Но Смокинг</td>\n",
              "      <td>0</td>\n",
              "    </tr>\n",
              "    <tr>\n",
              "      <th>23497</th>\n",
              "      <td>МАСТЕРСКАЯ CREED</td>\n",
              "      <td>0</td>\n",
              "    </tr>\n",
              "    <tr>\n",
              "      <th>23498</th>\n",
              "      <td>Dzing Finance</td>\n",
              "      <td>0</td>\n",
              "    </tr>\n",
              "    <tr>\n",
              "      <th>23499</th>\n",
              "      <td>КОРС</td>\n",
              "      <td>0</td>\n",
              "    </tr>\n",
              "    <tr>\n",
              "      <th>23500</th>\n",
              "      <td>Наука-Связь</td>\n",
              "      <td>0</td>\n",
              "    </tr>\n",
              "  </tbody>\n",
              "</table>\n",
              "<p>23501 rows × 2 columns</p>\n",
              "</div>"
            ],
            "text/plain": [
              "                         name  count\n",
              "0                      Яндекс    181\n",
              "1                  Ростелеком    152\n",
              "2                  Спецремонт    116\n",
              "3      Поляков Денис Иванович     88\n",
              "4                   ООО ЕФИН      71\n",
              "...                       ...    ...\n",
              "23496              Но Смокинг      0\n",
              "23497        МАСТЕРСКАЯ CREED      0\n",
              "23498           Dzing Finance      0\n",
              "23499                    КОРС      0\n",
              "23500             Наука-Связь      0\n",
              "\n",
              "[23501 rows x 2 columns]"
            ]
          },
          "execution_count": 472,
          "metadata": {},
          "output_type": "execute_result"
        }
      ],
      "source": [
        "# результат запроса\n",
        "query_5_3_result = pd.read_sql_query(query_5_3, connection)\n",
        "query_5_3_result"
      ]
    },
    {
      "cell_type": "markdown",
      "id": "eab2206d-d95b-468b-8e5f-34381abf0ce7",
      "metadata": {
        "id": "eab2206d-d95b-468b-8e5f-34381abf0ce7"
      },
      "source": [
        "4. Напишите запрос для подсчёта количества работодателей, у которых не указана сфера деятельности. "
      ]
    },
    {
      "cell_type": "code",
      "execution_count": 473,
      "id": "80defb23-bfb1-4a18-8be6-bf36aa7165d5",
      "metadata": {
        "id": "80defb23-bfb1-4a18-8be6-bf36aa7165d5"
      },
      "outputs": [],
      "source": [
        "# текст запроса\n",
        "query_5_4 = f'''select count(*)\n",
        "                from EMPLOYERS e left join EMPLOYERS_INDUSTRIES ei on e.id = ei.employer_id \n",
        "                where ei.industry_id is null\n",
        "'''"
      ]
    },
    {
      "cell_type": "code",
      "execution_count": 474,
      "id": "Dp_yCx6ysQSu",
      "metadata": {
        "id": "Dp_yCx6ysQSu"
      },
      "outputs": [
        {
          "name": "stdout",
          "output_type": "stream",
          "text": [
            "Количество работодателей, у которых не указана сфера деятельности - 8419\n"
          ]
        }
      ],
      "source": [
        "# результат запроса\n",
        "query_5_4_result = pd.read_sql_query(query_5_4, connection)\n",
        "print(f\"Количество работодателей, у которых не указана сфера деятельности - {query_5_4_result['count'][0]}\")"
      ]
    },
    {
      "cell_type": "markdown",
      "id": "0112af31-f6b0-4e3b-82ab-71296e752e5e",
      "metadata": {
        "id": "0112af31-f6b0-4e3b-82ab-71296e752e5e"
      },
      "source": [
        "5. Напишите запрос, чтобы узнать название компании, находящейся на третьем месте в алфавитном списке (по названию) компаний, у которых указано четыре сферы деятельности. "
      ]
    },
    {
      "cell_type": "code",
      "execution_count": 475,
      "id": "973b0cfc-a972-470a-8b4a-68744ef220c4",
      "metadata": {
        "id": "973b0cfc-a972-470a-8b4a-68744ef220c4"
      },
      "outputs": [],
      "source": [
        "# текст запроса\n",
        "query_5_5 = f'''select e.name,\n",
        "                       count(industry_id)\n",
        "                from EMPLOYERS e left join EMPLOYERS_INDUSTRIES ei on e.id = ei.employer_id\n",
        "                group by 1 \n",
        "                having count(industry_id) = 4\n",
        "                order by e.name\n",
        "                offset 2\n",
        "                limit 1\n",
        "'''"
      ]
    },
    {
      "cell_type": "code",
      "execution_count": 476,
      "id": "xsPtpp8EsaED",
      "metadata": {
        "id": "xsPtpp8EsaED"
      },
      "outputs": [
        {
          "name": "stdout",
          "output_type": "stream",
          "text": [
            "Название компании, которая находится на третьем месте по алфавиту среди компаний с 4-мя сферами деятельности - 2ГИС\n"
          ]
        }
      ],
      "source": [
        "# результат запроса\n",
        "query_5_5_result = pd.read_sql_query(query_5_5, connection)\n",
        "print(f\"Название компании, которая находится на третьем месте по алфавиту среди компаний с 4-мя сферами деятельности - {query_5_5_result['name'][0]}\")"
      ]
    },
    {
      "cell_type": "markdown",
      "id": "3bfcfdaf-755d-4d2b-8ed8-326201dc07ab",
      "metadata": {
        "id": "3bfcfdaf-755d-4d2b-8ed8-326201dc07ab"
      },
      "source": [
        "6. С помощью запроса выясните, у какого количества работодателей в качестве сферы деятельности указана Разработка программного обеспечения.\n"
      ]
    },
    {
      "cell_type": "code",
      "execution_count": 477,
      "id": "ad3f270f-2991-47eb-929b-e8f88a55b0d1",
      "metadata": {
        "id": "ad3f270f-2991-47eb-929b-e8f88a55b0d1"
      },
      "outputs": [],
      "source": [
        "# текст запроса\n",
        "query_5_6 = f'''select count(*)\n",
        "                from EMPLOYERS_INDUSTRIES ei \n",
        "                left join INDUSTRIES i on ei.industry_id = i.id\n",
        "                where i.name like 'Разработка программного обеспечения'\n",
        "'''"
      ]
    },
    {
      "cell_type": "code",
      "execution_count": 478,
      "id": "H72qxWM0shPR",
      "metadata": {
        "id": "H72qxWM0shPR"
      },
      "outputs": [
        {
          "name": "stdout",
          "output_type": "stream",
          "text": [
            "Разработкой ПО занимаются 3553 компании\n"
          ]
        }
      ],
      "source": [
        "# результат запроса\n",
        "query_5_6_result = pd.read_sql_query(query_5_6, connection)\n",
        "print(f\"Разработкой ПО занимаются {query_5_6_result['count'][0]} компании\")"
      ]
    },
    {
      "cell_type": "markdown",
      "id": "7b02bb86-0546-40fb-94a4-242f050a5c57",
      "metadata": {
        "id": "7b02bb86-0546-40fb-94a4-242f050a5c57"
      },
      "source": [
        "7. Для компании «Яндекс» выведите список регионов-миллионников, в которых представлены вакансии компании, вместе с количеством вакансий в этих регионах. Также добавьте строку Total с общим количеством вакансий компании. Результат отсортируйте по возрастанию количества.\n",
        "\n",
        "Список городов-милионников надо взять [отсюда](https://ru.wikipedia.org/wiki/%D0%93%D0%BE%D1%80%D0%BE%D0%B4%D0%B0-%D0%BC%D0%B8%D0%BB%D0%BB%D0%B8%D0%BE%D0%BD%D0%B5%D1%80%D1%8B_%D0%A0%D0%BE%D1%81%D1%81%D0%B8%D0%B8). \n",
        "\n",
        "Если возникнут трудности с этим задание посмотрите материалы модуля  PYTHON-17. Как получать данные из веб-источников и API. "
      ]
    },
    {
      "cell_type": "code",
      "execution_count": 479,
      "id": "ZdfrL6gIs1Pn",
      "metadata": {
        "id": "ZdfrL6gIs1Pn"
      },
      "outputs": [
        {
          "name": "stdout",
          "output_type": "stream",
          "text": [
            "('Москва', 'Санкт-Петербург', 'Новосибирск', 'Екатеринбург', 'Казань', 'Нижний Новгород', 'Красноярск', 'Челябинск', 'Самара', 'Уфа', 'Ростов-на-Дону', 'Краснодар', 'Омск', 'Воронеж', 'Пермь', 'Волгоград')\n"
          ]
        }
      ],
      "source": [
        "# код для получения списка городов-милионников\n",
        "# Импортируем библиотеку requests\n",
        "import requests \n",
        "# Импортируем библиотеку BeautifulSoup\n",
        "from bs4 import BeautifulSoup \n",
        "\n",
        "url = 'https://ru.wikipedia.org/wiki/Города-миллионеры_России' # Определяем адрес страницы\n",
        "response = requests.get(url) # Выполняем GET-запрос, содержимое ответа присваивается переменной response\n",
        "page = BeautifulSoup(response.text, 'html.parser') # Создаём объект BeautifulSoup, указывая html-парсер\n",
        "\n",
        "table = page.find('table', class_='standard sortable').find_all('tr') # Находим таблицу с городами-миллионниками \n",
        "\n",
        "million_city = [] # Инициализируем список, куда будут добавлены города\n",
        "\n",
        "for elem in table[1:]: # Запускаем цикл по элементам поиска по веб-странице\n",
        "    million_city.append(elem.find('a').text) # Заполняем список \n",
        "\n",
        "million_city = tuple(million_city) # Преобразуем список в кортеж, чтобы воспользоваться в запросе\n",
        "print(million_city)"
      ]
    },
    {
      "cell_type": "code",
      "execution_count": 480,
      "id": "5a0e32a4-e68a-4365-8a39-2fe24c542c36",
      "metadata": {
        "id": "5a0e32a4-e68a-4365-8a39-2fe24c542c36"
      },
      "outputs": [],
      "source": [
        "# текст запроса\n",
        "query_5_7 = f'''(select a.name,\n",
        "                       count(v.id)\n",
        "                from vacancies v \n",
        "                left join EMPLOYERS e on v.employer_id = e.id\n",
        "                left join AREAS a on v.area_id = a.id\n",
        "                where e.name like 'Яндекс' and a.name in {million_city}\n",
        "                group by 1\n",
        "                order by 2)\n",
        "                \n",
        "                union all\n",
        "                \n",
        "                (select 'total',\n",
        "                        count(*) total\n",
        "                from vacancies v \n",
        "                left join EMPLOYERS e on v.employer_id = e.id\n",
        "                left join AREAS a on v.area_id = a.id\n",
        "                where e.name like 'Яндекс' and a.name in {million_city}\n",
        "                group by 1)\n",
        "'''"
      ]
    },
    {
      "cell_type": "code",
      "execution_count": 481,
      "id": "ttPhiO1rsvPq",
      "metadata": {
        "id": "ttPhiO1rsvPq"
      },
      "outputs": [
        {
          "data": {
            "text/html": [
              "<div>\n",
              "<style scoped>\n",
              "    .dataframe tbody tr th:only-of-type {\n",
              "        vertical-align: middle;\n",
              "    }\n",
              "\n",
              "    .dataframe tbody tr th {\n",
              "        vertical-align: top;\n",
              "    }\n",
              "\n",
              "    .dataframe thead th {\n",
              "        text-align: right;\n",
              "    }\n",
              "</style>\n",
              "<table border=\"1\" class=\"dataframe\">\n",
              "  <thead>\n",
              "    <tr style=\"text-align: right;\">\n",
              "      <th></th>\n",
              "      <th>name</th>\n",
              "      <th>count</th>\n",
              "    </tr>\n",
              "  </thead>\n",
              "  <tbody>\n",
              "    <tr>\n",
              "      <th>0</th>\n",
              "      <td>total</td>\n",
              "      <td>485</td>\n",
              "    </tr>\n",
              "    <tr>\n",
              "      <th>1</th>\n",
              "      <td>Омск</td>\n",
              "      <td>21</td>\n",
              "    </tr>\n",
              "    <tr>\n",
              "      <th>2</th>\n",
              "      <td>Челябинск</td>\n",
              "      <td>22</td>\n",
              "    </tr>\n",
              "    <tr>\n",
              "      <th>3</th>\n",
              "      <td>Красноярск</td>\n",
              "      <td>23</td>\n",
              "    </tr>\n",
              "    <tr>\n",
              "      <th>4</th>\n",
              "      <td>Волгоград</td>\n",
              "      <td>24</td>\n",
              "    </tr>\n",
              "    <tr>\n",
              "      <th>5</th>\n",
              "      <td>Пермь</td>\n",
              "      <td>25</td>\n",
              "    </tr>\n",
              "    <tr>\n",
              "      <th>6</th>\n",
              "      <td>Казань</td>\n",
              "      <td>25</td>\n",
              "    </tr>\n",
              "    <tr>\n",
              "      <th>7</th>\n",
              "      <td>Ростов-на-Дону</td>\n",
              "      <td>25</td>\n",
              "    </tr>\n",
              "    <tr>\n",
              "      <th>8</th>\n",
              "      <td>Уфа</td>\n",
              "      <td>26</td>\n",
              "    </tr>\n",
              "    <tr>\n",
              "      <th>9</th>\n",
              "      <td>Самара</td>\n",
              "      <td>26</td>\n",
              "    </tr>\n",
              "    <tr>\n",
              "      <th>10</th>\n",
              "      <td>Краснодар</td>\n",
              "      <td>30</td>\n",
              "    </tr>\n",
              "    <tr>\n",
              "      <th>11</th>\n",
              "      <td>Воронеж</td>\n",
              "      <td>32</td>\n",
              "    </tr>\n",
              "    <tr>\n",
              "      <th>12</th>\n",
              "      <td>Новосибирск</td>\n",
              "      <td>35</td>\n",
              "    </tr>\n",
              "    <tr>\n",
              "      <th>13</th>\n",
              "      <td>Нижний Новгород</td>\n",
              "      <td>36</td>\n",
              "    </tr>\n",
              "    <tr>\n",
              "      <th>14</th>\n",
              "      <td>Екатеринбург</td>\n",
              "      <td>39</td>\n",
              "    </tr>\n",
              "    <tr>\n",
              "      <th>15</th>\n",
              "      <td>Санкт-Петербург</td>\n",
              "      <td>42</td>\n",
              "    </tr>\n",
              "    <tr>\n",
              "      <th>16</th>\n",
              "      <td>Москва</td>\n",
              "      <td>54</td>\n",
              "    </tr>\n",
              "  </tbody>\n",
              "</table>\n",
              "</div>"
            ],
            "text/plain": [
              "               name  count\n",
              "0             total    485\n",
              "1              Омск     21\n",
              "2         Челябинск     22\n",
              "3        Красноярск     23\n",
              "4         Волгоград     24\n",
              "5             Пермь     25\n",
              "6            Казань     25\n",
              "7    Ростов-на-Дону     25\n",
              "8               Уфа     26\n",
              "9            Самара     26\n",
              "10        Краснодар     30\n",
              "11          Воронеж     32\n",
              "12      Новосибирск     35\n",
              "13  Нижний Новгород     36\n",
              "14     Екатеринбург     39\n",
              "15  Санкт-Петербург     42\n",
              "16           Москва     54"
            ]
          },
          "execution_count": 481,
          "metadata": {},
          "output_type": "execute_result"
        }
      ],
      "source": [
        "# результат запроса\n",
        "query_5_7_result = pd.read_sql_query(query_5_7, connection)\n",
        "query_5_7_result\n"
      ]
    },
    {
      "cell_type": "markdown",
      "id": "04966e40-3bc3-4dc8-9ba2-e80580ce3abc",
      "metadata": {
        "id": "04966e40-3bc3-4dc8-9ba2-e80580ce3abc"
      },
      "source": [
        "***"
      ]
    },
    {
      "cell_type": "code",
      "execution_count": 375,
      "id": "aGGyER-yt4SR",
      "metadata": {
        "id": "aGGyER-yt4SR"
      },
      "outputs": [],
      "source": [
        "# выводы по анализу работодателей\n",
        "# Компания \"Яндекс\" предлагает почти в 4 раза больше вакансий, а именно 1993, чем следующая за ней компания \"Ростелеком\", 485 из которых предлагаются в городах-миллионниках\n",
        "# Соподсчет работодателей и вакансий по регионам показал, что некоторые регионы отображают только принадлежность компании определенному местоположению, \n",
        "# к вакансиям такие регионы отношения не имеют\n",
        "# \"Яндекс\" также является лидером количеству регионов, в котором предлагаются вакансии компании\n",
        "# По результатам запроса устновлено, что 36 % работодателей не указывают сферу деятельности\n",
        "# Разработкой ПО занимаются 3553 компании"
      ]
    },
    {
      "cell_type": "markdown",
      "id": "b1ef156a-efcb-49ce-bb23-90763e7f35b2",
      "metadata": {
        "id": "b1ef156a-efcb-49ce-bb23-90763e7f35b2",
        "tags": []
      },
      "source": [
        "# Юнит 6. Предметный анализ"
      ]
    },
    {
      "cell_type": "markdown",
      "id": "b9cd50a0-992d-4988-8463-2b2b1c4629b4",
      "metadata": {
        "id": "b9cd50a0-992d-4988-8463-2b2b1c4629b4"
      },
      "source": [
        "1. Сколько вакансий имеет отношение к данным?\n",
        "\n",
        "Считаем, что вакансия имеет отношение к данным, если в её названии содержатся слова 'data' или 'данн'.\n",
        "\n",
        "*Подсказка: Обратите внимание, что названия вакансий могут быть написаны в любом регистре.* \n"
      ]
    },
    {
      "cell_type": "code",
      "execution_count": 482,
      "id": "54ab0e50-c0f1-47cc-a54b-bc5c8bc363f9",
      "metadata": {
        "id": "54ab0e50-c0f1-47cc-a54b-bc5c8bc363f9"
      },
      "outputs": [],
      "source": [
        "# текст запроса\n",
        "query_6_1 = f'''select count(v.id)\n",
        "                from vacancies v\n",
        "                where lower(v.name) like '%data%' or lower(v.name) like '%данн%'\n",
        "'''"
      ]
    },
    {
      "cell_type": "code",
      "execution_count": 483,
      "id": "9F1meAqsuUjd",
      "metadata": {
        "id": "9F1meAqsuUjd"
      },
      "outputs": [
        {
          "name": "stdout",
          "output_type": "stream",
          "text": [
            "1771 вакансия имеет отношение к данным\n"
          ]
        }
      ],
      "source": [
        "# результат запроса\n",
        "query_6_1_result = pd.read_sql_query(query_6_1, connection)\n",
        "print(f\"{query_6_1_result['count'][0]} вакансия имеет отношение к данным\")"
      ]
    },
    {
      "cell_type": "markdown",
      "id": "4dea20cb-a36b-474a-a0b9-e08e8e3857a5",
      "metadata": {
        "id": "4dea20cb-a36b-474a-a0b9-e08e8e3857a5"
      },
      "source": [
        "2. Сколько есть подходящих вакансий для начинающего дата-сайентиста? \n",
        "Будем считать вакансиями для дата-сайентистов такие, в названии которых есть хотя бы одно из следующих сочетаний:\n",
        "* 'data scientist'\n",
        "* 'data science'\n",
        "* 'исследователь данных'\n",
        "* 'ML' (здесь не нужно брать вакансии по HTML)\n",
        "* 'machine learning'\n",
        "* 'машинн%обучен%'\n",
        "\n",
        "** В следующих заданиях мы продолжим работать с вакансиями по этому условию.*\n",
        "\n",
        "Считаем вакансиями для специалистов уровня Junior следующие:\n",
        "* в названии есть слово 'junior' *или*\n",
        "* требуемый опыт — Нет опыта *или*\n",
        "* тип трудоустройства — Стажировка.\n",
        " "
      ]
    },
    {
      "cell_type": "code",
      "execution_count": 484,
      "id": "9c61b3c0-bb66-46c9-ae1e-81d3f5752b4a",
      "metadata": {
        "id": "9c61b3c0-bb66-46c9-ae1e-81d3f5752b4a"
      },
      "outputs": [],
      "source": [
        "# текст запроса\n",
        "query_6_2 = f'''select count(v.id)\n",
        "                from vacancies v\n",
        "                where (lower(v.name) like '%data scientist%'\n",
        "                      or lower(v.name) like '%data science%'\n",
        "                      or lower(v.name) like '%исследователь данных%'\n",
        "                      or lower(v.name) like '%машинн%обучен%'\n",
        "                      or lower(v.name) like '%machine learning%'\n",
        "                      or (v.name like '%ML%' and v.name not like '%HTML%')) \n",
        "                      \n",
        "                      and (lower(name) like '%junior%'\n",
        "                          or experience = 'Нет опыта'\n",
        "                          or employment = 'Стажировка')\n",
        "'''"
      ]
    },
    {
      "cell_type": "code",
      "execution_count": 485,
      "id": "ZNM-LLYuu1dj",
      "metadata": {
        "id": "ZNM-LLYuu1dj"
      },
      "outputs": [
        {
          "name": "stdout",
          "output_type": "stream",
          "text": [
            "51 вакансия подходит для начинающего дата-сайентиста\n"
          ]
        }
      ],
      "source": [
        "# результат запроса\n",
        "query_6_2_result = pd.read_sql_query(query_6_2, connection)\n",
        "print(f\"{query_6_2_result['count'][0]} вакансия подходит для начинающего дата-сайентиста\")"
      ]
    },
    {
      "cell_type": "markdown",
      "id": "eedceb80-c5ca-480e-b27a-278dfb8b4438",
      "metadata": {
        "id": "eedceb80-c5ca-480e-b27a-278dfb8b4438"
      },
      "source": [
        "3. Сколько есть вакансий для DS, в которых в качестве ключевого навыка указан SQL или postgres?\n",
        "\n",
        "** Критерии для отнесения вакансии к DS указаны в предыдущем задании.*"
      ]
    },
    {
      "cell_type": "code",
      "execution_count": 486,
      "id": "69621713-0cc5-4f1b-a1d7-bb144fa6148c",
      "metadata": {
        "id": "69621713-0cc5-4f1b-a1d7-bb144fa6148c"
      },
      "outputs": [],
      "source": [
        "# текст запроса\n",
        "query_6_3 = f'''select count(v.id)\n",
        "                from vacancies v\n",
        "                where (lower(v.name) like '%data scientist%'\n",
        "                      or lower(v.name) like '%data science%'\n",
        "                      or lower(v.name) like '%исследователь данных%'\n",
        "                      or lower(v.name) like '%машинн%обучен%'\n",
        "                      or lower(v.name) like '%machine learning%'\n",
        "                      or (lower(v.name) like '%ml%' and lower(v.name) not like '%html%')) \n",
        "                      \n",
        "                      and (lower(v.key_skills) like '%sql%'\n",
        "                          or lower(v.key_skills) like '%postgres%')\n",
        "'''"
      ]
    },
    {
      "cell_type": "code",
      "execution_count": 487,
      "id": "alA8WEAAvGdf",
      "metadata": {
        "id": "alA8WEAAvGdf"
      },
      "outputs": [
        {
          "name": "stdout",
          "output_type": "stream",
          "text": [
            "229 вакансий требуют знание SQL и Postrges\n"
          ]
        }
      ],
      "source": [
        "# результат запроса\n",
        "query_6_3_result = pd.read_sql_query(query_6_3, connection)\n",
        "print(f\"{query_6_3_result['count'][0]} вакансий требуют знание SQL и Postrges\")"
      ]
    },
    {
      "cell_type": "markdown",
      "id": "1be1e9c6-37cf-4a5f-bfeb-04cab799dc80",
      "metadata": {
        "id": "1be1e9c6-37cf-4a5f-bfeb-04cab799dc80"
      },
      "source": [
        "4. Проверьте, насколько популярен Python в требованиях работодателей к DS.Для этого вычислите количество вакансий, в которых в качестве ключевого навыка указан Python.\n",
        "\n",
        "** Это можно сделать помощью запроса, аналогичного предыдущему.*"
      ]
    },
    {
      "cell_type": "code",
      "execution_count": 488,
      "id": "0036a355-9ccf-4564-8b01-73d8194297e7",
      "metadata": {
        "id": "0036a355-9ccf-4564-8b01-73d8194297e7"
      },
      "outputs": [],
      "source": [
        "# текст запроса\n",
        "query_6_4 = f'''select count(v.id)\n",
        "                from vacancies v\n",
        "                where (lower(v.name) like '%data scientist%'\n",
        "                      or lower(v.name) like '%data science%'\n",
        "                      or lower(v.name) like '%исследователь данных%'\n",
        "                      or lower(v.name) like '%машинн%обучен%'\n",
        "                      or lower(v.name) like '%machine learning%'\n",
        "                      or (lower(v.name) like '%ml%' and lower(v.name) not like '%html%')) \n",
        "                      \n",
        "                      and (lower(v.key_skills) like '%python%')\n",
        "'''"
      ]
    },
    {
      "cell_type": "code",
      "execution_count": 489,
      "id": "1i-5WyucvQ6v",
      "metadata": {
        "id": "1i-5WyucvQ6v"
      },
      "outputs": [
        {
          "name": "stdout",
          "output_type": "stream",
          "text": [
            "357 вакансий требуют знание Python\n"
          ]
        }
      ],
      "source": [
        "# результат запроса\n",
        "query_6_4_result = pd.read_sql_query(query_6_4, connection)\n",
        "print(f\"{query_6_4_result['count'][0]} вакансий требуют знание Python\")"
      ]
    },
    {
      "cell_type": "markdown",
      "id": "ec3c8db7-fa21-4a41-a994-1af63742a642",
      "metadata": {
        "id": "ec3c8db7-fa21-4a41-a994-1af63742a642"
      },
      "source": [
        "5. Сколько ключевых навыков в среднем указывают в вакансиях для DS?\n",
        "Ответ округлите до двух знаков после точки-разделителя."
      ]
    },
    {
      "cell_type": "code",
      "execution_count": 490,
      "id": "949132bc-d5b6-4611-8218-0b9a504d74f4",
      "metadata": {
        "id": "949132bc-d5b6-4611-8218-0b9a504d74f4"
      },
      "outputs": [],
      "source": [
        "# текст запроса\n",
        "query_6_5 = f'''select v.key_skills \n",
        "                from vacancies v\n",
        "                where v.key_skills is not null \n",
        "                      and (lower(v.name) like '%data scientist%'\n",
        "                          or lower(v.name) like '%data science%'\n",
        "                          or lower(v.name) like '%исследователь данных%'\n",
        "                          or lower(v.name) like '%машинн%обучен%'\n",
        "                          or lower(v.name) like '%machine learning%'\n",
        "                          or (v.name like '%ML%' and lower(v.name) not like '%html%'))\n",
        "'''"
      ]
    },
    {
      "cell_type": "code",
      "execution_count": 491,
      "id": "a3V24Tvmviqk",
      "metadata": {
        "id": "a3V24Tvmviqk"
      },
      "outputs": [
        {
          "name": "stdout",
          "output_type": "stream",
          "text": [
            "6.41 ключевых навыков в среднем необходимо для DS\n"
          ]
        }
      ],
      "source": [
        "# результат запроса\n",
        "query_6_5_result = pd.read_sql_query(query_6_5, connection)\n",
        "\n",
        "# Напишем фeнкцию для преобразования признака\n",
        "def mean_key_skills(arg):\n",
        "    '''Функция преобразует признак ключевые навыки в признак среднего числа ключевых навыков\n",
        "\n",
        "    На выходе из функции остается число, указанных навыков\n",
        "\n",
        "    Args:\n",
        "        arg (srting): перечисление ключевых навыков\n",
        "\n",
        "    Returns:\n",
        "        int: число, указанных навыков\n",
        "    '''\n",
        "    # Развиваем строку по разделителю\n",
        "    arg = arg.split('\\t')\n",
        "    # Возвращаем длину списка\n",
        "    return len(arg)\n",
        "\n",
        "# Применяем функцию mean_key_skills к столбцу из полученного запроса\n",
        "query_6_5_result['mean_key_skills'] = query_6_5_result['key_skills'].apply(mean_key_skills)\n",
        "print(f\"{query_6_5_result['mean_key_skills'].mean():.2f} ключевых навыков в среднем необходимо для DS\")"
      ]
    },
    {
      "cell_type": "markdown",
      "id": "1041c17a-ca8f-4543-a0ca-32778914fb00",
      "metadata": {
        "id": "1041c17a-ca8f-4543-a0ca-32778914fb00"
      },
      "source": [
        "6. Напишите запрос, позволяющий вычислить, какую зарплату для DS в **среднем** указывают для каждого типа требуемого опыта (уникальное значение из поля *experience*). \n",
        "\n",
        "При решении задачи примите во внимание следующее:\n",
        "1. Рассматриваем только вакансии, у которых заполнено хотя бы одно из двух полей с зарплатой.\n",
        "2. Если заполнены оба поля с зарплатой, то считаем зарплату по каждой вакансии как сумму двух полей, делённую на 2. Если заполнено только одно из полей, то его и считаем зарплатой по вакансии.\n",
        "3. Если в расчётах участвует null, в результате он тоже даст null (посмотрите, что возвращает запрос select 1 + null). Чтобы избежать этой ситуацию, мы воспользуемся функцией [coalesce](https://postgrespro.ru/docs/postgresql/9.5/functions-conditional#functions-coalesce-nvl-ifnull), которая заменит null на значение, которое мы передадим. Например, посмотрите, что возвращает запрос `select 1 + coalesce(null, 0)`\n",
        "\n",
        "Выясните, на какую зарплату в среднем может рассчитывать дата-сайентист с опытом работы от 3 до 6 лет. Результат округлите до целого числа. "
      ]
    },
    {
      "cell_type": "code",
      "execution_count": 492,
      "id": "6a743d39-5204-48d3-8271-b9f88e68d40e",
      "metadata": {
        "id": "6a743d39-5204-48d3-8271-b9f88e68d40e"
      },
      "outputs": [],
      "source": [
        "# текст запроса\n",
        "query_6_6 = f'''select experience,\n",
        "                       round(avg(\n",
        "                          coalesce((salary_from + salary_to)/2, salary_from, salary_to)\n",
        "                ), 0)\n",
        "                from vacancies v\n",
        "                where (salary_from is not null or salary_to is not null)\n",
        "                      and (lower(v.name) like '%data scientist%'\n",
        "                          or lower(v.name) like '%data science%'\n",
        "                          or lower(v.name) like '%исследователь данных%'\n",
        "                          or lower(v.name) like '%машинн%обучен%'\n",
        "                          or lower(v.name) like '%machine learning%'\n",
        "                          or (v.name like '%ML%' and lower(v.name) not like '%html%'))\n",
        "                group by 1\n",
        "'''"
      ]
    },
    {
      "cell_type": "code",
      "execution_count": 493,
      "id": "aRIJ0mZEwU1_",
      "metadata": {
        "id": "aRIJ0mZEwU1_"
      },
      "outputs": [
        {
          "data": {
            "text/html": [
              "<div>\n",
              "<style scoped>\n",
              "    .dataframe tbody tr th:only-of-type {\n",
              "        vertical-align: middle;\n",
              "    }\n",
              "\n",
              "    .dataframe tbody tr th {\n",
              "        vertical-align: top;\n",
              "    }\n",
              "\n",
              "    .dataframe thead th {\n",
              "        text-align: right;\n",
              "    }\n",
              "</style>\n",
              "<table border=\"1\" class=\"dataframe\">\n",
              "  <thead>\n",
              "    <tr style=\"text-align: right;\">\n",
              "      <th></th>\n",
              "      <th>experience</th>\n",
              "      <th>round</th>\n",
              "    </tr>\n",
              "  </thead>\n",
              "  <tbody>\n",
              "    <tr>\n",
              "      <th>0</th>\n",
              "      <td>Нет опыта</td>\n",
              "      <td>74643.0</td>\n",
              "    </tr>\n",
              "    <tr>\n",
              "      <th>1</th>\n",
              "      <td>От 1 года до 3 лет</td>\n",
              "      <td>139675.0</td>\n",
              "    </tr>\n",
              "    <tr>\n",
              "      <th>2</th>\n",
              "      <td>От 3 до 6 лет</td>\n",
              "      <td>243115.0</td>\n",
              "    </tr>\n",
              "  </tbody>\n",
              "</table>\n",
              "</div>"
            ],
            "text/plain": [
              "           experience     round\n",
              "0           Нет опыта   74643.0\n",
              "1  От 1 года до 3 лет  139675.0\n",
              "2       От 3 до 6 лет  243115.0"
            ]
          },
          "execution_count": 493,
          "metadata": {},
          "output_type": "execute_result"
        }
      ],
      "source": [
        "# результат запроса\n",
        "query_6_6_result = pd.read_sql_query(query_6_6, connection)\n",
        "query_6_6_result"
      ]
    },
    {
      "cell_type": "markdown",
      "id": "6a7892b4-4113-4746-adce-18aa2844f18e",
      "metadata": {
        "id": "6a7892b4-4113-4746-adce-18aa2844f18e"
      },
      "source": [
        "***"
      ]
    },
    {
      "cell_type": "code",
      "execution_count": 441,
      "id": "UjLWUptVwY1o",
      "metadata": {
        "id": "UjLWUptVwY1o"
      },
      "outputs": [],
      "source": [
        "# выводы по предметному анализу\n",
        "# 1771 вакансия имеет отношение к данны\n",
        "# 51 вакансия подходит для начинающего дата-сайентиста\n",
        "# 229 вакансий требуют знание SQL и Postrges\n",
        "# 357 вакансий требуют знание Python\n",
        "# 6.41 ключевых навыков в среднем необходимо для DS"
      ]
    },
    {
      "cell_type": "markdown",
      "id": "c0ED6fh7wiBT",
      "metadata": {
        "id": "c0ED6fh7wiBT"
      },
      "source": [
        "# Общий вывод по проекту"
      ]
    },
    {
      "cell_type": "code",
      "execution_count": 389,
      "id": "h9B3BL-wwj18",
      "metadata": {
        "id": "h9B3BL-wwj18"
      },
      "outputs": [],
      "source": [
        "# подведем итог исследования, обобщите выводы\n",
        "# здесь можно (это будет плюсом) провести дополнительные исследования данных, сделать прогнозы, продумать варианты продолжения исследования"
      ]
    },
    {
      "cell_type": "markdown",
      "id": "c31a21d3",
      "metadata": {},
      "source": [
        "**Выводы по предварительному анализу данных:**\n",
        "\n",
        "Предварительный анализ данных показал, что БД содержит сведения о 49197 вакансиях от 23501 работадателя, которые расположены в 1362 регионах, и которые в совокупности предлагают 294 различных сфер деятельности "
      ]
    },
    {
      "cell_type": "markdown",
      "id": "4a4237a3",
      "metadata": {},
      "source": [
        "**Для обобщения выводов по анализу вакансий визуализируем некоторые данные, для этого:** \n"
      ]
    },
    {
      "cell_type": "code",
      "execution_count": 494,
      "id": "e0488554",
      "metadata": {},
      "outputs": [
        {
          "name": "stdout",
          "output_type": "stream",
          "text": [
            "Процент вакансий, которые приходятся на 5 самых популярных региона, составляет 29%\n",
            "Среди самых популярных регионов Москва занимает 38% предлагаемых вакансий\n"
          ]
        }
      ],
      "source": [
        "# Посчитаем сколько процентов всех предлагаемых вакансий приходятся на 5 самых популярных городов, ответ округлим до целого значения\n",
        "areas_percent_pop = query_4_1_result['count'].sum()/query_3_1_result['count'][0] * 100\n",
        "print(f'Процент вакансий, которые приходятся на 5 самых популярных региона, составляет {areas_percent_pop:.0f}%')\n",
        "\n",
        "# Найдем сколько при этом процентов вакансий приходится на Москву\n",
        "mosc_percent_vac = query_4_1_result['count'][0]/query_4_1_result['count'].sum() * 100\n",
        "print(f'Среди самых популярных регионов Москва занимает {mosc_percent_vac:.0f}% предлагаемых вакансий')\n",
        "\n",
        "# Дополним таблицу с числом вакансий по регионам суммарым числом остальных регионов, обозначим \"другие\"\n",
        "areas_distrib = query_4_1_result.copy()\n",
        "areas_distrib.loc[5] = ['Другие', query_3_1_result['count'][0] - query_4_1_result['count'].sum()]\n",
        "\n",
        "# Построим круговую диаграмму для отображения распределения вакансий по регионам\n",
        "areas_distrib = px.pie(\n",
        "    data_frame=areas_distrib,\n",
        "    names='name',\n",
        "    values ='count',\n",
        "    title='Рисунок 1 - Процентное распредление вакансий по регионам'\n",
        ")\n",
        "\n",
        "areas_distrib.write_html('Визуализация/Fig1-Рисунок_1_Распредление_вакансий_по_регионам.html')"
      ]
    },
    {
      "cell_type": "code",
      "execution_count": 495,
      "id": "722c4a31",
      "metadata": {},
      "outputs": [],
      "source": [
        "# Построим круговую диаграмму для визуализации процентного распределения вакансий по требуемому опыту работы\n",
        "exp_distrib = px.pie(\n",
        "    data_frame=query_4_5_result,\n",
        "    names='experience',\n",
        "    values ='count',\n",
        "    title='Рисунок 2 - Процентное распредление вакансий по требуемому опыту работы'\n",
        ")\n",
        "\n",
        "exp_distrib.write_html('Визуализация/Fig2-Рисунок_2_Распредление_вакансий_по_ОР.html')"
      ]
    },
    {
      "cell_type": "code",
      "execution_count": null,
      "id": "0266b942",
      "metadata": {},
      "outputs": [],
      "source": [
        "# Создадим дополнительный запрос для исследования распределения ЗП\n",
        "query_4_6 = f'''select salary_from \"Нижняя граница зарплатной вилки\",\n",
        "                       salary_to \"Верхняя граница зарплатной вилки\"\n",
        "                from vacancies v\n",
        "'''\n",
        "\n",
        "# Запищем результат запроса в датафрейм\n",
        "query_4_6_result = pd.read_sql_query(query_4_6, connection)\n",
        "\n",
        "# Построим коробчатую диаграмму для анализа распределения\n",
        "salary_dist = px.box(\n",
        "    data_frame=query_4_6_result,\n",
        "    title='Рисунок 3 - Распределение нижней и верхней границ зарплатной вилки'\n",
        ")\n",
        "\n",
        " # Добавим подписи к осям и сохраним в html формат\n",
        "salary_dist.update_layout(xaxis_title=\"\", yaxis_title=\"ЗП, руб\")\n",
        "salary_dist.write_html('Визуализация/Fig3-Распределение_нижней_и_верхней_границ_зарплатной_вилки.html')"
      ]
    },
    {
      "cell_type": "code",
      "execution_count": 496,
      "id": "87bc89ef",
      "metadata": {},
      "outputs": [],
      "source": [
        "# Создадим запрос для построения столбчатой диаграммы для компаний , предлагающих более 100 вакансий в различных регионах\n",
        "query_5_1 = f'''select e.name, count(v.id)\n",
        "                from VACANCIES v left join EMPLOYERS e on v.employer_id = e.id\n",
        "                group by 1\n",
        "                having count(v.id) > 100\n",
        "                order by 2 desc\n",
        "'''\n",
        "\n",
        "# Создадим запрос для построения столбчатой диаграммы для компаний, предлагающих вакансии в более 50 регионах\n",
        "query_5_3 = f'''select e.name,\n",
        "                       count(distinct v.area_id)\n",
        "                from EMPLOYERS e \n",
        "                left join vacancies v on e.id = v.employer_id\n",
        "                group by e.id\n",
        "                having count(distinct v.area_id) > 50\n",
        "                order by 2 desc\n",
        "'''\n",
        "\n",
        "# Создадим запрос для построения столбчатой диаграммы для компании \"Яндекс\" по городам-миллионникам\n",
        "query_5_7 = f'''(select a.name,\n",
        "                       count(v.id)\n",
        "                from vacancies v \n",
        "                left join EMPLOYERS e on v.employer_id = e.id\n",
        "                left join AREAS a on v.area_id = a.id\n",
        "                where e.name like 'Яндекс' and a.name in {million_city}\n",
        "                group by 1\n",
        "                order by 2)\n",
        "'''\n",
        "\n",
        "# Сохраним результат запроса в датафрейм\n",
        "query_5_1_result = pd.read_sql_query(query_5_1, connection)\n",
        "query_5_3_result = pd.read_sql_query(query_5_3, connection)\n",
        "query_5_7_result = pd.read_sql_query(query_5_7, connection)\n",
        "\n",
        "# Построим столбчатую диаграмму \n",
        "employ_bar = px.bar(\n",
        "    data_frame=query_5_1_result,\n",
        "    x='name',\n",
        "    y='count',\n",
        "    title= 'Рисунок 4 - Компании, которые предлагают более 100 вакансий'\n",
        ")\n",
        "area_bar = px.bar(\n",
        "    data_frame=query_5_3_result,\n",
        "    x='name',\n",
        "    y='count',\n",
        "    title= 'Рисунок 5 - Компании, которые предлагают вакансии в более чем 50 регионах'\n",
        ")\n",
        "yandex_bar = px.bar(\n",
        "    data_frame=query_5_7_result,\n",
        "    x='name',\n",
        "    y='count',\n",
        "    title= 'Рисунок 6 - Распределение вакансий, предлагаемых команией \"Яндекс\" в городах-миллионниках'\n",
        ")\n",
        "\n",
        " # Добавим подписи к осям и сохраним в html формат\n",
        "employ_bar.update_layout(xaxis_title=\"\", yaxis_title=\"Колличество вакансий, ед.\")\n",
        "employ_bar.write_html('Визуализация/Fig4-Комп_где_более_100_вакансий.html')\n",
        "\n",
        "area_bar.update_layout(xaxis_title=\"\", yaxis_title=\"Колличество вакансий, ед.\")\n",
        "area_bar.write_html('Визуализация/Fig5-Комп_где_более_50_регионов.html')\n",
        "\n",
        "yandex_bar.update_layout(xaxis_title=\"\", yaxis_title=\"Колличество вакансий, ед.\")\n",
        "yandex_bar.write_html('Визуализация/Fig6-yandex.html')"
      ]
    },
    {
      "cell_type": "code",
      "execution_count": 497,
      "id": "317b7f3e",
      "metadata": {},
      "outputs": [
        {
          "name": "stdout",
          "output_type": "stream",
          "text": [
            "36 % работодателей не указывают сферу деятельности\n"
          ]
        }
      ],
      "source": [
        "# Посчитаем процент работодалетей, которые не указывают сферы деятельности компаний \n",
        "field_percent = query_5_4_result['count'][0]/query_3_2_result['count'][0] * 100\n",
        "print(f\"{field_percent:.0f} % работодателей не указывают сферу деятельности\")"
      ]
    },
    {
      "cell_type": "code",
      "execution_count": 498,
      "id": "3564b6c3",
      "metadata": {},
      "outputs": [],
      "source": [
        "# Построим дополнительную даиграмму для визуализации востребованности вакансий \n",
        "field_distib = f'''select v.name,\n",
        "                          count(v.id)\n",
        "                   from vacancies v\n",
        "                   group by 1\n",
        "                   having count(v.id) > 100\n",
        "                   order by 2\n",
        "'''\n",
        "\n",
        "# Сохраним результат запроса в датафрейм\n",
        "field_distib_result = pd.read_sql_query(field_distib, connection)\n",
        "\n",
        "# Построим горизонтальную столбчатую диаграмму \n",
        "field_distib_bar = px.bar(\n",
        "    data_frame=field_distib_result,\n",
        "    x='count',\n",
        "    y='name',\n",
        "    color='count',\n",
        "    title= 'Рисунок 8 - Наиболее востребованные вакансии'\n",
        ")\n",
        "\n",
        " # Добавим подписи к осям и сохраним в html формат\n",
        "field_distib_bar.update_layout(xaxis_title=\"Количествоб, ед\", yaxis_title=\"Вакансия\")\n",
        "field_distib_bar.write_html('Визуализация/Fig8-Востребованность вакансий.html')"
      ]
    },
    {
      "cell_type": "code",
      "execution_count": 499,
      "id": "cb64289b",
      "metadata": {},
      "outputs": [
        {
          "name": "stdout",
          "output_type": "stream",
          "text": [
            "4 % вакансий относятся к сфере работы с данными\n"
          ]
        }
      ],
      "source": [
        "# Вычислим процент вакансий, относящихся к данным\n",
        "vac_data_percent = query_6_1_result['count'][0]/query_3_1_result['count'][0] *100\n",
        "print(f\"{vac_data_percent:.0f} % вакансий относятся к сфере работы с данными\")"
      ]
    },
    {
      "cell_type": "code",
      "execution_count": 500,
      "id": "f60becae",
      "metadata": {},
      "outputs": [
        {
          "name": "stdout",
          "output_type": "stream",
          "text": [
            "43 % вакансий требуют знания SQL, Postgres\n",
            "67 % вакансий требуют знания Python\n"
          ]
        }
      ],
      "source": [
        "# Дополнительно найдем общее количество вакансий из области DS\n",
        "query_6_7 = f'''select count(v.id)\n",
        "                from vacancies v\n",
        "                where (lower(v.name) like '%data scientist%'\n",
        "                      or lower(v.name) like '%data science%'\n",
        "                      or lower(v.name) like '%исследователь данных%'\n",
        "                      or lower(v.name) like '%машинн%обучен%'\n",
        "                      or lower(v.name) like '%machine learning%'\n",
        "                      or (v.name ilike '%ML%' and v.name not ilike '%HTML%'))\n",
        "'''\n",
        "# Запишем результат в переменную\n",
        "query_6_7_result = pd.read_sql_query(query_6_7, connection)\n",
        "\n",
        "# Найдем процент вакансий, где требуется знание SQL, Postgres\n",
        "sql_persent = query_6_3_result['count'][0]/query_6_7_result['count'][0] * 100\n",
        "print(f\"{sql_persent:.0f} % вакансий требуют знания SQL, Postgres\")\n",
        "\n",
        "# Найдем процент вакаансий, где требуется знание Python\n",
        "sql_persent = query_6_4_result['count'][0]/query_6_7_result['count'][0] * 100\n",
        "print(f\"{sql_persent:.0f} % вакансий требуют знания Python\")\n",
        "\n",
        "# Построим столбчатую диаграмму \n",
        "exp_sal_bar = px.bar(\n",
        "    data_frame=query_6_6_result,\n",
        "    x='experience',\n",
        "    y='round',\n",
        "    color='experience',\n",
        "    title= 'Рисунок 7 - Средняя зарплата в зависимости от опыта работы в сфере DS'\n",
        ")\n",
        "\n",
        " # Добавим подписи к осям и сохраним в html формат\n",
        "exp_sal_bar.update_layout(xaxis_title=\"\", yaxis_title=\"ЗП, руб.\")\n",
        "exp_sal_bar.write_html('Визуализация/Fig7-ЗП от ОР.html')"
      ]
    },
    {
      "cell_type": "markdown",
      "id": "b050194d",
      "metadata": {},
      "source": [
        "**Выводы по детальному анализу вакансий:**\n",
        "\n",
        "1. <u>29 %</u> всех вакансий приходятся на <u>Москву, Санкт-Петербург, Минск, Новосибирск и Алматы</u>, при этом 38 % из них приходятся на Москву. Вероятно такое распределение связано с тем, что большинство крупных компаний предлагающих большое колличество вакансий расположено в Москве, что в свою очередь может быть результатом привлектельности Москвы как города для проживания, а также повышенные зарплатные ожидания. Остальные города также являются центрами своих областей и даже столицей, которые отвечают повышенному уровню жизни и ведения бизнеса. \n",
        "\n",
        "<center> <img src=Fig1.png width=1000 height=550> </center>\n",
        "\n",
        "2. 53 % всех вакансий требуют опыта работы от 1 года до 3 лет. Опыт работы является ключевым фактором, влияющим на заработную плату при приеме на работу. Вероятно такое распределение получилось в результате того, что именно под эту категорию попадает большее количество кандидатов. Также можно предположить, что опытные специлисте реже увольняются и переходят на другую работу.\n",
        "\n",
        "<center> <img src=Fig2.png width=1000 height=550> </center>\n",
        "\n",
        "3. Средняя нижняя граница зарплатной вилки - 71065, средняя верхняя граница зарплатной вилки - 110537. По распредилению нижней и верхней границ зарплатной вилки видно, что распределения нормальными не являются, так как сильно смещенны в большую сторону, имеют большое колличество возможных выбросов,которые могут и не быть выбросами так, как ЗП зависит от многих факторов таких, как регион компании и сама компания, сфреа деятельности компании, а медианные и средние значения при этом сильно отличаются. Также по результатам запросов установленно, что около 50% работадателей не указывают ни один из пределов, что делает анализ распределений менее точным из-за малости выборки.\n",
        "\n",
        "<center> <img src=Fig3.png width=1000 height=550> </center>\n",
        "\n",
        "4. Среди работадателей \"Яндекс\" является явным лидером, эта компания предлагает 1933 выкансии в 181 регионе (рисунки 4 и 5 соответсвенно), компания \"Яндекс\" является одной из крупнейших в России IT компаний, которые постоянно расширяются, поэтому такое количество вакансий не удивительно, также IT профессия часто связана с удаленной работой, в следствии чего компания может предлагать работу в незасимости от места проживания.\n",
        "\n",
        "<center> <img src=Fig4.png width=1000 height=550> </center>\n",
        "<center> <img src=Fig5.png width=1000 height=550> </center>\n",
        "\n",
        "5. На рисунке 6 представлено распределение вакансий, предлагаемых компанией \"Яндекс\" в городах-миллионниках, наибольшее количество вакансий предлогается в Москве и Санкт-Петербурге\n",
        "\n",
        "<center> <img src=Fig6.png width=1000 height=550> </center>\n",
        "\n",
        "6. По результатам запросов установлено, что 43% вакансий, связанных с DS, требуют знаний SQL, Postgres, а знания языка программирования Python требуется в 67% случаев, на основе полученных данных можно сказать, что SQL и Python являются ключевыми инструментыми в DS, однако это не весь список ключевых навыков, результаты запроса также показывают, что для устройства по вакансии DS необходимо в среднем обладать минимум 6 ключевыми навыками\n",
        "\n",
        "7. На рисунке 7 показано распределение средней зарплаты дата-сайентиста в зависимости от опыта работы, на рисунке 7 можно увидеть закономерное увеличение ЗП с увеличением опыта работы\n",
        "\n",
        "<center> <img src=fig7.png width=1000 height=550> </center>\n",
        "\n",
        "8. Среди размещенных предложений о работе вакансии IT специалистов занимают лидирующие позиции. Это связано со всеобщим расширением данной области и нехватки квалифицированных кадров\n",
        "\n",
        "<center> <img src=Fig8.png width=1000 height=550> </center>\n",
        "\n",
        "**Возможные дополнительные исследования:**\n",
        "\n",
        "1. Интересным полученным результатом запроса является то, что примерно в 50 % случаев не указаны пределы по ЗП, причины и закономерности этого могли бы стать предметом отдельного исследования\n",
        "\n",
        "2. 72 % всех вакансий имеют формат занятости - полная занятость, а график - полный день, влияние данного фактора на размер ЗП также может быть предметом исследования\n",
        "\n"
      ]
    },
    {
      "cell_type": "code",
      "execution_count": 501,
      "id": "6f5104ff",
      "metadata": {},
      "outputs": [],
      "source": [
        "connection.close()"
      ]
    }
  ],
  "metadata": {
    "colab": {
      "collapsed_sections": [
        "8d62a9f3-f64e-4fe7-bdac-c4dffa16155e"
      ],
      "provenance": []
    },
    "kernelspec": {
      "display_name": "Python 3 (ipykernel)",
      "language": "python",
      "name": "python3"
    },
    "language_info": {
      "codemirror_mode": {
        "name": "ipython",
        "version": 3
      },
      "file_extension": ".py",
      "mimetype": "text/x-python",
      "name": "python",
      "nbconvert_exporter": "python",
      "pygments_lexer": "ipython3",
      "version": "3.11.4"
    }
  },
  "nbformat": 4,
  "nbformat_minor": 5
}
